{
  "nbformat": 4,
  "nbformat_minor": 0,
  "metadata": {
    "colab": {
      "provenance": [],
      "mount_file_id": "1bRPN2-9luXnYH0cyOl3DFjyOdCkXkGGk",
      "authorship_tag": "ABX9TyOPZzjCR2kqnJg6WK0b1vtu",
      "include_colab_link": true
    },
    "kernelspec": {
      "name": "python3",
      "display_name": "Python 3"
    },
    "language_info": {
      "name": "python"
    }
  },
  "cells": [
    {
      "cell_type": "markdown",
      "metadata": {
        "id": "view-in-github",
        "colab_type": "text"
      },
      "source": [
        "<a href=\"https://colab.research.google.com/github/archiegoodman2/neural_net/blob/main/models_UNSW_NB15.ipynb\" target=\"_parent\"><img src=\"https://colab.research.google.com/assets/colab-badge.svg\" alt=\"Open In Colab\"/></a>"
      ]
    },
    {
      "cell_type": "markdown",
      "source": [
        "# Practice run of analysing/testing different models on the UNSW_NB15 dataset, before trying Deep Learning.\n",
        "\n",
        "Prior research suggests this is a largely non-linear, less separable dataset so deep learning may be necessary, but I will try simpler, more interpretable models first for the sake of completeness, and to gain Variable Importances"
      ],
      "metadata": {
        "id": "Yhq0AM-GxTw6"
      }
    },
    {
      "cell_type": "markdown",
      "source": [
        "Let's load our packages and data"
      ],
      "metadata": {
        "id": "BwpZ83SO1wod"
      }
    },
    {
      "cell_type": "code",
      "source": [
        "#import packages:\n",
        "from google.colab import drive\n",
        "import pandas as pd\n",
        "import sklearn as sk\n",
        "import numpy as np\n",
        "import matplotlib.pyplot as plt\n",
        "import seaborn as sns\n",
        "\n",
        "print(\"New run: Packages loaded\")"
      ],
      "metadata": {
        "colab": {
          "base_uri": "https://localhost:8080/"
        },
        "id": "WSMa2bmU5XCI",
        "outputId": "94516021-25ad-42fd-cb6c-561709e7b882"
      },
      "execution_count": null,
      "outputs": [
        {
          "output_type": "stream",
          "name": "stdout",
          "text": [
            "New run: Packages loaded\n"
          ]
        }
      ]
    },
    {
      "cell_type": "code",
      "source": [
        "#if using colabs - will need to first mount your drive\n",
        "\n",
        "#change these for different users\n",
        "test_set_filepath = '/content/drive/MyDrive/Colab_Notebooks/Data/UNSW_NB15_testing-set.parquet'\n",
        "training_set_filepath = '/content/drive/MyDrive/Colab_Notebooks/Data/UNSW_NB15_training-set.parquet'\n",
        "\n",
        "# Import the two CSV files\n",
        "test_set = pd.read_parquet(test_set_filepath)\n",
        "train_set = pd.read_parquet(training_set_filepath)\n",
        "\n",
        "#drop label and define list of out targets\n",
        "X = train_set.drop('label', axis=1)\n",
        "y = train_set['label']\n",
        "\n",
        "# List only the categorical columns (object types)\n",
        "categorical_cols = train_set.select_dtypes(include=['category']).columns.tolist()\n"
      ],
      "metadata": {
        "id": "OsQcbrhZyWcN"
      },
      "execution_count": null,
      "outputs": []
    },
    {
      "cell_type": "markdown",
      "source": [
        "The next cell does some basic analysis, and one hot encodes some of the features:"
      ],
      "metadata": {
        "id": "N7RupKUW7OgV"
      }
    },
    {
      "cell_type": "code",
      "source": [
        "\n",
        "#print number of records in our data\n",
        "print(f\"Number of records in training set: {len(train_set)}\")\n",
        "print(f\"Number of records in test set: {len(test_set)}\")\n",
        "\n",
        "#lets see which ones are categorical etc\n",
        "#print(f'''\n",
        "#The columns and datatypes are:\n",
        "#{train_set.dtypes}\n",
        "#''')\n",
        "\n",
        "print(\"Categorical Columns are :\", categorical_cols)\n",
        "\n",
        "#print out number of classifications\n",
        "print(f\"Number of categories in 'label' category: {len(train_set['label'].unique())}\")\n",
        "\n",
        "#print out labels\n",
        "print(f\"Labels: {train_set['label'].unique()}\")\n",
        "\n",
        "#print out how many unique values we have for each categorical variable - if we have too many we may need an embeddings layer\n",
        "for col in categorical_cols:\n",
        "    print(f\"Number of categories in '{col}' category: {len(train_set[col].unique())}\")\n",
        "\n",
        "#there seems to be over 100 possible values of proto - lets see how common they all are\n",
        "category_percentages = train_set['proto'].value_counts(normalize=True) * 100\n",
        "\n",
        "#define a dict of the categories and their percentages of occurence. what we want to do here is group any that occur less than 0.5% of the time, into an 'other' category\n",
        "category_percentages_dict = category_percentages.to_dict()\n",
        "\n",
        "#init empty dict to store our categories that will bother one-hot encoding\n",
        "target_categories_to_encode = []\n",
        "\n",
        "for key in category_percentages_dict:\n",
        "    if category_percentages_dict[key] > 0.5:\n",
        "      target_categories_to_encode.append(key)\n",
        "\n",
        "#we now have a list of values that we want to one hot encode. we want to simply group the others into an 'other column'\n",
        "\n"
      ],
      "metadata": {
        "colab": {
          "base_uri": "https://localhost:8080/"
        },
        "id": "xM4RjBPs6w0F",
        "outputId": "f75f3f8c-e358-4cd1-bc15-152f7dbabc32"
      },
      "execution_count": null,
      "outputs": [
        {
          "output_type": "stream",
          "name": "stdout",
          "text": [
            "Number of records in training set: 175341\n",
            "Number of records in test set: 82332\n",
            "Categorical Columns are : ['proto', 'service', 'state', 'attack_cat']\n",
            "Number of categories in 'label' category: 2\n",
            "Labels: [0 1]\n",
            "Number of categories in 'proto' category: 133\n",
            "Number of categories in 'service' category: 13\n",
            "Number of categories in 'state' category: 9\n",
            "Number of categories in 'attack_cat' category: 10\n",
            "{'tcp': 45.59458426722786, 'udp': 36.091387638943544, 'unas': 6.891713860420552, 'arp': 1.6305370677708007, 'ospf': 1.4799733091518812, 'sctp': 0.6558648576202941, 'any': 0.17109518024877238, 'gre': 0.1283213851865793, 'sun-nd': 0.11463377076667751, 'swipe': 0.11463377076667751, 'pim': 0.11463377076667751, 'mobile': 0.11463377076667751, 'ipv6': 0.11463377076667751, 'rsvp': 0.1140634534991816, 'sep': 0.11007123262671023, 'ib': 0.05760204401708671, 'pri-enc': 0.0570317267495908, 'qnx': 0.0570317267495908, 'rvd': 0.0570317267495908, 'pvp': 0.0570317267495908, 'sat-expak': 0.0570317267495908, 'sat-mon': 0.0570317267495908, 'ptp': 0.0570317267495908, '3pc': 0.0570317267495908, 'pnni': 0.0570317267495908, 'pipe': 0.0570317267495908, 'pgm': 0.0570317267495908, 'nsfnet-igp': 0.0570317267495908, 'narp': 0.0570317267495908, 'mtp': 0.0570317267495908, 'micp': 0.0570317267495908, 'mhrp': 0.0570317267495908, 'mfe-nsp': 0.0570317267495908, 'merit-inp': 0.0570317267495908, 'a/n': 0.0570317267495908, 'sccopmce': 0.0570317267495908, 'secure-vmtp': 0.0570317267495908, 'scps': 0.0570317267495908, 'tp++': 0.0570317267495908, 'xtp': 0.0570317267495908, 'wsn': 0.0570317267495908, 'wb-mon': 0.0570317267495908, 'wb-expak': 0.0570317267495908, 'vrrp': 0.0570317267495908, 'vmtp': 0.0570317267495908, 'visa': 0.0570317267495908, 'vines': 0.0570317267495908, 'uti': 0.0570317267495908, 'ttp': 0.0570317267495908, 'tlsp': 0.0570317267495908, 'sdrp': 0.0570317267495908, 'tcf': 0.0570317267495908, 'stp': 0.0570317267495908, 'srp': 0.0570317267495908, 'sps': 0.0570317267495908, 'sprite-rpc': 0.0570317267495908, 'snp': 0.0570317267495908, 'smp': 0.0570317267495908, 'sm': 0.0570317267495908, 'skip': 0.0570317267495908, 'l2tp': 0.0570317267495908, 'larp': 0.0570317267495908, 'zero': 0.0570317267495908, 'kryptolan': 0.0570317267495908, 'il': 0.0570317267495908, 'compaq-peer': 0.0570317267495908, 'cphb': 0.0570317267495908, 'ifmp': 0.0570317267495908, 'idrp': 0.0570317267495908, 'idpr-cmtp': 0.0570317267495908, 'idpr': 0.0570317267495908, 'iatp': 0.0570317267495908, 'i-nlsp': 0.0570317267495908, 'cpnx': 0.0570317267495908, 'gmtp': 0.0570317267495908, 'fire': 0.0570317267495908, 'fc': 0.0570317267495908, 'etherip': 0.0570317267495908, 'encap': 0.0570317267495908, 'crudp': 0.0570317267495908, 'eigrp': 0.0570317267495908, 'ddp': 0.0570317267495908, 'ddx': 0.0570317267495908, 'cftp': 0.0570317267495908, 'ipv6-frag': 0.0570317267495908, 'aris': 0.0570317267495908, 'aes-sp3-d': 0.0570317267495908, 'iso-ip': 0.0570317267495908, 'isis': 0.0570317267495908, 'ipx-n-ip': 0.0570317267495908, 'ipv6-route': 0.0570317267495908, 'ipv6-opts': 0.0570317267495908, 'ipv6-no': 0.0570317267495908, 'br-sat-mon': 0.0570317267495908, 'dgp': 0.0570317267495908, 'ippc': 0.0570317267495908, 'ax.25': 0.0570317267495908, 'bna': 0.0570317267495908, 'iplt': 0.0570317267495908, 'ipip': 0.0570317267495908, 'ipcv': 0.0570317267495908, 'ipcomp': 0.0570317267495908, 'trunk-1': 0.05646140948209489, 'xnet': 0.05646140948209489, 'crtp': 0.05646140948209489, 'trunk-2': 0.05646140948209489, 'xns-idp': 0.05646140948209489, 'chaos': 0.05646140948209489, 'dcn': 0.05646140948209489, 'cbt': 0.05646140948209489, 'leaf-2': 0.05646140948209489, 'st2': 0.05646140948209489, 'igp': 0.05646140948209489, 'leaf-1': 0.05646140948209489, 'irtp': 0.05646140948209489, 'mux': 0.05646140948209489, 'nvp': 0.05646140948209489, 'ipnip': 0.05646140948209489, 'ip': 0.05646140948209489, 'pup': 0.05646140948209489, 'prm': 0.05646140948209489, 'iso-tp4': 0.05646140948209489, 'ggp': 0.05646140948209489, 'emcon': 0.05646140948209489, 'egp': 0.05589109221459898, 'rdp': 0.05589109221459898, 'bbn-rcc': 0.05589109221459898, 'netblt': 0.05589109221459898, 'argus': 0.05589109221459898, 'hmp': 0.05589109221459898, 'igmp': 0.010265710814926342, 'icmp': 0.00855475901243862, 'rtp': 0.000570317267495908}\n"
          ]
        }
      ]
    },
    {
      "cell_type": "markdown",
      "source": [
        "Based on the high number of columns in the Proto column, we may want to consider an Embeddings layer with the Deep Learning that we plan to undertake later. However since LR/DT/RF perform poorly on sparse vector datasets (like one hot encoded ones) we will group all the extremely rare categories into an 'other'.\n"
      ],
      "metadata": {
        "id": "sYPGA0w_tgSK"
      }
    }
  ]
}